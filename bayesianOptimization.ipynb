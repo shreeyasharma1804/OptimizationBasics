{
 "cells": [
  {
   "cell_type": "code",
   "execution_count": 1,
   "metadata": {},
   "outputs": [
    {
     "name": "stdout",
     "output_type": "stream",
     "text": [
      "(569, 30)\n",
      "(569,)\n"
     ]
    }
   ],
   "source": [
    "from sklearn.datasets import load_breast_cancer\n",
    "data = load_breast_cancer()\n",
    "x = data.data\n",
    "y = data.target\n",
    "print(x.shape)\n",
    "print(y.shape)"
   ]
  },
  {
   "cell_type": "code",
   "execution_count": 2,
   "metadata": {},
   "outputs": [],
   "source": [
    "from sklearn.model_selection import train_test_split    \n",
    "x_train, x_test, y_train, y_test = train_test_split(x, y, test_size=0.1, random_state=42)\n"
   ]
  },
  {
   "cell_type": "code",
   "execution_count": 3,
   "metadata": {},
   "outputs": [],
   "source": [
    "from sklearn import preprocessing\n",
    "scaler = preprocessing.StandardScaler()\n",
    "x_train = scaler.fit_transform(x_train)\n",
    "x_test = scaler.fit_transform(x_test)"
   ]
  },
  {
   "cell_type": "code",
   "execution_count": 4,
   "metadata": {},
   "outputs": [],
   "source": [
    "from sklearn.metrics import roc_auc_score\n",
    "from sklearn.svm import SVC\n",
    "\n",
    "def black_box_function(C,degree):\n",
    "    model = SVC(C = C, degree=degree)\n",
    "    model.fit(x_train, y_train)\n",
    "    y_score = model.decision_function(x_test)\n",
    "    f = roc_auc_score(y_test, y_score)\n",
    "    return f"
   ]
  },
  {
   "cell_type": "code",
   "execution_count": 7,
   "metadata": {},
   "outputs": [
    {
     "name": "stdout",
     "output_type": "stream",
     "text": [
      "Best result: {'C': 0.9758122638374911, 'degree': 5.0}; f(x) = 0.997.\n"
     ]
    }
   ],
   "source": [
    "from bayes_opt import BayesianOptimization, UtilityFunction\n",
    "\n",
    "optimizer = BayesianOptimization(f = None, \n",
    "                                 pbounds = {\"C\": [0.01, 10], \n",
    "                                            \"degree\": [1, 5]}, \n",
    "                                 verbose = 2, random_state = 1234)\n",
    "\n",
    "for i in range(25):\n",
    "    next_point = optimizer.suggest(utility)   \n",
    "    next_point[\"degree\"] = int(next_point[\"degree\"]) \n",
    "    target = black_box_function(**next_point)    \n",
    "    try:\n",
    "        optimizer.register(params = next_point, target = target)\n",
    "    except:\n",
    "        pass\n",
    "    \n",
    "print(\"Best result: {}; f(x) = {:.3f}.\".format(optimizer.max[\"params\"], optimizer.max[\"target\"]))"
   ]
  },
  {
   "cell_type": "code",
   "execution_count": null,
   "metadata": {},
   "outputs": [],
   "source": []
  }
 ],
 "metadata": {
  "interpreter": {
   "hash": "916dbcbb3f70747c44a77c7bcd40155683ae19c65e1c03b4aa3499c5328201f1"
  },
  "kernelspec": {
   "display_name": "Python 3.8.10 64-bit",
   "language": "python",
   "name": "python3"
  },
  "language_info": {
   "codemirror_mode": {
    "name": "ipython",
    "version": 3
   },
   "file_extension": ".py",
   "mimetype": "text/x-python",
   "name": "python",
   "nbconvert_exporter": "python",
   "pygments_lexer": "ipython3",
   "version": "3.8.10"
  },
  "orig_nbformat": 4
 },
 "nbformat": 4,
 "nbformat_minor": 2
}
